{
 "cells": [
  {
   "cell_type": "raw",
   "id": "bbf35c35",
   "metadata": {},
   "source": [
    "1) In the below elements which of them are values or an expression? \n",
    "\n",
    "Expressions : *, - , /, +\n",
    "\n",
    "Values : \"hello\", -87.8, 6"
   ]
  },
  {
   "cell_type": "raw",
   "id": "bedc232e",
   "metadata": {},
   "source": [
    "2) What is the difference between string and variable?\n",
    "\n",
    "STRING : It is a combination or sequence of characters which are wrapped inside single, double, or triple quotes.\n",
    "         Example: \"ineuron\", \n",
    "VARIABLE :It is a reserved memory location where it stores the values that we provide. \n",
    "         Example: x = \"ineuron\"\n",
    "\n",
    "The only difference between string and variable is, string is a datatype and variable is a place where we store those datatypes.\n",
    "From the above examples, \"ineuron\" is a string and the variable which is storing \"ineuron\" is said to be variable i.e., x    "
   ]
  },
  {
   "cell_type": "raw",
   "id": "b5346c78",
   "metadata": {},
   "source": [
    "3) Describe three different data types.\n",
    "\n",
    "NUMERIC DATA TYPE: This data type represents the data that has a numeric value. That numeric value can be Integer, Float, and Complex.\n",
    "                    Integer - It represents whole numbers both positive and negative values.\n",
    "                                Example:  a = 2\n",
    "                                \n",
    "                    Float - It represents decimal values.\n",
    "                                Example:  b = 2.5\n",
    "                                \n",
    "                    Complex - It represents combination of real and imaginary part\n",
    "                                Example: c = 2+7j\n",
    "    \n",
    "\n",
    "STRING DATA TYPE : It is a sequence of unicode characters which are enclosed by single, double or triple quotes. \n",
    "                    Example : a = \"sudhanshu sir\"\n",
    "\n",
    "\n",
    "LIST DATA TYPE : A list is a data type where we store all type of elements. Those elements could be both           homogenenous and hetreogenenous. List is denoted by square [] brackets. \n",
    "                    Example: a = [\"ineuron\", 2021, 6+2j]\n",
    "                    "
   ]
  },
  {
   "cell_type": "raw",
   "id": "d6026043",
   "metadata": {},
   "source": [
    "4) What is an expression made up of? What do all expressions do?\n",
    "\n",
    "An expression is a combination of values and operators. \n",
    "All expressions evaluate (that is, reduce) to a single value.\n"
   ]
  },
  {
   "cell_type": "code",
   "execution_count": null,
   "id": "1a9c4668",
   "metadata": {},
   "outputs": [],
   "source": [
    "5) This assignment statements, like spam = 10. What is the difference between an expression and a statement?\n",
    "\n",
    "An expression is any combination of symbols that represents a value.\n",
    "        For example, 2.9, a + 5, (3 + 5) / 4. \n",
    "A statement is a programming instruction that does something i.e. some action takes place. \n",
    "        For example: print(\"Oneneuron\")"
   ]
  },
  {
   "cell_type": "raw",
   "id": "873e0528",
   "metadata": {},
   "source": [
    "6) After running the following code, what does the variable bacon contain?\n",
    "bacon = 22\n",
    "bacon + 1\n",
    "\n",
    "After running the above code, the variable bacon contain integer 22 only. \n",
    "Although we made addition operation(in the second line of code ), we didnot assigned any variable name here. By default bacon is assigned to 22\n"
   ]
  },
  {
   "cell_type": "raw",
   "id": "f6484dc8",
   "metadata": {},
   "source": [
    "7) What should the values of the following two terms be?\n",
    "'spam' + 'spamspam'\n",
    "'spam' * 3\n",
    "\n",
    "For both 'spam' + 'spamspam' and 'spam' * 3 , the output would be same i.e., 'spamspamspam'\n",
    "The explanation behind this is , addition (+) operator \"concatenates\" the string where as multiplication (*) operator repeats the string that many number of times. "
   ]
  },
  {
   "cell_type": "code",
   "execution_count": null,
   "id": "36666430",
   "metadata": {},
   "outputs": [],
   "source": [
    "8) Why is eggs a valid variable name while 100 is invalid?\n",
    "\n",
    "We are not supposed to take or use anything as a variable name. We have some conditions. Our varible name must\n",
    "meet those conditions. \n",
    "One of the condition is variable name cannot start with integer. We can use alphabets and numeric values together\n",
    "but we cannot use only numeric values as a varible name.\n",
    "In the given question also, eggs are valid because it is combination of alphabets whereas 100 is a numeric value.\n",
    "so it is not valid to use.\n"
   ]
  },
  {
   "cell_type": "code",
   "execution_count": null,
   "id": "7ea9a5f1",
   "metadata": {},
   "outputs": [],
   "source": [
    "9) What three functions can be used to get the integer, floating-point number, or string version of a value?\n",
    "\n",
    "The int(), float(), and str() functions can be used to get integer, floating-point number,\n",
    "and string versions of the value passed to them."
   ]
  },
  {
   "cell_type": "raw",
   "id": "27014b2b",
   "metadata": {},
   "source": [
    "10) Why does this expression cause an error? How can you fix it?\n",
    "'I have eaten ' + 99 + ' burritos.'\n",
    "\n",
    "The expression got error because, String data type cannot perform or cannot allow addition operation with integer (99).\n",
    "But we can fix this error or problem by converting integer 99 to string '99'.\n",
    "We can convert this by using str() function.\n",
    "\n",
    "'I have eaten' + str(99) + 'burritos'"
   ]
  },
  {
   "cell_type": "code",
   "execution_count": null,
   "id": "5a7de613",
   "metadata": {},
   "outputs": [],
   "source": []
  }
 ],
 "metadata": {
  "kernelspec": {
   "display_name": "Python 3",
   "language": "python",
   "name": "python3"
  },
  "language_info": {
   "codemirror_mode": {
    "name": "ipython",
    "version": 3
   },
   "file_extension": ".py",
   "mimetype": "text/x-python",
   "name": "python",
   "nbconvert_exporter": "python",
   "pygments_lexer": "ipython3",
   "version": "3.8.8"
  }
 },
 "nbformat": 4,
 "nbformat_minor": 5
}

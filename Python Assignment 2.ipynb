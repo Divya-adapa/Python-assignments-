{
 "cells": [
  {
   "cell_type": "raw",
   "id": "708b38aa",
   "metadata": {},
   "source": [
    "Q1.What are the two values of the Boolean data type? How do you write them?\n",
    "\n",
    "True and False, which also can be denote as 'T' and 'F'. "
   ]
  },
  {
   "cell_type": "raw",
   "id": "58f65546",
   "metadata": {},
   "source": [
    "Q2. What are the three different types of Boolean operators?\n",
    "\n",
    "The three different types of Boolean operators are OR,AND,NOT"
   ]
  },
  {
   "cell_type": "raw",
   "id": "82ec29ae",
   "metadata": {},
   "source": [
    "Q3. Make a list of each Boolean operator's truth tables (i.e. every possible combination of Boolean values for the operator and what it evaluate ).\n",
    "\n",
    "True AND True is True.                  True OR True is True.            NOT True is False.\n",
    "True AND False is False.                True OR False is True.           NOT False is True.\n",
    "False AND True is False.                False OR True is True.\n",
    "False AND False is False.               False OR False is False.\n",
    "                                                                           "
   ]
  },
  {
   "cell_type": "raw",
   "id": "c0595673",
   "metadata": {},
   "source": [
    "Q4. What are the values of the following expressions?\n",
    "(5 > 4) and (3 == 5)\n",
    "not (5 > 4)\n",
    "(5 > 4) or (3 == 5)\n",
    "not ((5 > 4) or (3 == 5))\n",
    "(True and True) and (True == False)\n",
    "(not False) or (not True)\n",
    "\n",
    "\n",
    "When we execute the given expressions, of course we will get Boolean values as we are using Boolean operators.\n",
    "\n",
    "(5 > 4) and (3 == 5) \n",
    "False\n",
    "\n",
    "\n",
    "not (5 > 4)\n",
    "False\n",
    "\n",
    "\n",
    "(5 > 4) or (3 == 5)\n",
    "True\n",
    "\n",
    "\n",
    "not ((5 > 4) or (3 == 5))\n",
    "False\n",
    "\n",
    "\n",
    "(True and True) and (True == False)\n",
    "False\n",
    "\n",
    "\n",
    "(not False) or (not True)\n",
    "True\n"
   ]
  },
  {
   "cell_type": "raw",
   "id": "d9edb67f",
   "metadata": {},
   "source": [
    "Q5. What are the six comparison operators?\n",
    "\n",
    "There are Six comparison operators which are,\n",
    "Equal to (==)\n",
    "Not equal to (!=)\n",
    "Less than (<)\n",
    "Greater than (>)\n",
    "Less than equal to (<=)\n",
    "Greater than equal to (>=)\n"
   ]
  },
  {
   "cell_type": "raw",
   "id": "03737a8b",
   "metadata": {},
   "source": [
    "Q6. How do you tell the difference between the equal to and assignment operators?Describe a condition and when you would use one.\n",
    "\n",
    "---> The first and foremost difference between the equal to and assignment operator is thier notation.\n",
    "We notate or denote equal to with '==' whereas assignment operator with '='.\n",
    "---> And the second difference is their usage or purpose - 'Equal to' operator is used for comparison whereas 'assignment operator' is used for assigning values to variables.\n"
   ]
  },
  {
   "cell_type": "raw",
   "id": "581493cd",
   "metadata": {},
   "source": [
    "Q.7. Identify the three blocks in this code:\n",
    "spam = 0\n",
    "if spam == 10:  *** This is one block***\n",
    "print('eggs')   \n",
    "if spam > 5:    *** This is another block***\n",
    "print('bacon')\n",
    "else:           *** This is one block***\n",
    "print('ham')\n",
    "print('spam')\n",
    "print('spam')\n"
   ]
  },
  {
   "cell_type": "code",
   "execution_count": 5,
   "id": "de1a45a8",
   "metadata": {},
   "outputs": [
    {
     "name": "stdout",
     "output_type": "stream",
     "text": [
      "5\n",
      "Greetings!\n"
     ]
    }
   ],
   "source": [
    "#8. Write code that prints Hello if 1 is stored in spam, prints Howdy if 2 is stored in spam, \n",
    "#and prints Greetings! if anything else is stored in spam.\n",
    "\n",
    "spam = int(input())\n",
    "if spam ==1:\n",
    "    print(\"Hello\")\n",
    "elif spam ==2:\n",
    "    print(\"Howdy\")\n",
    "else:\n",
    "    print(\"Greetings!\")\n"
   ]
  },
  {
   "cell_type": "raw",
   "id": "105a9d4d",
   "metadata": {},
   "source": [
    "Q.9.If your programme is stuck in an endless loop, what keys you’ll press?\n",
    "\n",
    "In this condition, we press Ctrl+C"
   ]
  },
  {
   "cell_type": "raw",
   "id": "751283e4",
   "metadata": {},
   "source": [
    "Q.10. How can you tell the difference between break and continue?\n",
    "\n",
    "Break statement allows us to exit a loop when a condition is met. The continue statement allows us to skip part of a loop when a condition is met"
   ]
  },
  {
   "cell_type": "raw",
   "id": "bd6dfdc4",
   "metadata": {},
   "source": [
    "Q.11. In a for loop, what is the difference between range(10), range(0, 10), and range(0, 10, 1)?\n",
    "\n",
    "The three functions work similarly. The only difference is their executions, i.e.,\n",
    "\n",
    "range(10) ---> It prints the first 10 numbers,starts with 0 and ends with 9 (excludes 10)\n",
    "range(0,10) ---> It also prints the first 10 numbers starts from 0 and ends with 9(excludes 10). In this case we are specifying the starting index which is zero and ending index which is 10.\n",
    "range(0,10,1) ---> It prints first 10 numbers starts from 0 and ends with 10. In this case we are specifying the jump key which is 1. So it starts from 0 and go till 9 with jump 1."
   ]
  },
  {
   "cell_type": "code",
   "execution_count": 4,
   "id": "2f1cdf3b",
   "metadata": {},
   "outputs": [
    {
     "name": "stdout",
     "output_type": "stream",
     "text": [
      "1\n",
      "2\n",
      "3\n",
      "4\n",
      "5\n",
      "6\n",
      "7\n",
      "8\n",
      "9\n",
      "10\n"
     ]
    }
   ],
   "source": [
    "# Q.12. Write a short program that prints the numbers 1 to 10 using a for loop. \n",
    "#Then write an equivalent program that prints the numbers 1 to 10 using a while loop.\n",
    "\n",
    "# for loop \n",
    "\n",
    "for i in range(1,11):\n",
    "    print(i)"
   ]
  },
  {
   "cell_type": "code",
   "execution_count": 1,
   "id": "08bdc29e",
   "metadata": {},
   "outputs": [
    {
     "name": "stdout",
     "output_type": "stream",
     "text": [
      "1\n",
      "2\n",
      "3\n",
      "4\n",
      "5\n",
      "6\n",
      "7\n",
      "8\n",
      "9\n",
      "10\n"
     ]
    }
   ],
   "source": [
    "# printing 1 to 10 numbers using while loop \n",
    "\n",
    "i=1\n",
    "while i < 11:\n",
    "    print(i)\n",
    "    i=i+1"
   ]
  },
  {
   "cell_type": "raw",
   "id": "4c4b93ef",
   "metadata": {},
   "source": [
    "Q.13. If you had a function named bacon() inside a module named spam, how would you call it after importing spam?\n",
    "\n",
    "This function can be called with spam.bacon()."
   ]
  }
 ],
 "metadata": {
  "kernelspec": {
   "display_name": "Python 3",
   "language": "python",
   "name": "python3"
  },
  "language_info": {
   "codemirror_mode": {
    "name": "ipython",
    "version": 3
   },
   "file_extension": ".py",
   "mimetype": "text/x-python",
   "name": "python",
   "nbconvert_exporter": "python",
   "pygments_lexer": "ipython3",
   "version": "3.8.8"
  }
 },
 "nbformat": 4,
 "nbformat_minor": 5
}
